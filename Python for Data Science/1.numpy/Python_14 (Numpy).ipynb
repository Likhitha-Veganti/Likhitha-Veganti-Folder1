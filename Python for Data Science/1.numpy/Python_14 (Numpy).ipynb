{
 "cells": [
  {
   "cell_type": "markdown",
   "metadata": {},
   "source": [
    "# NumPy - Numerical Python\n",
    "It is used for numerical operations realated to Linear algebra and calculus."
   ]
  },
  {
   "cell_type": "markdown",
   "metadata": {},
   "source": [
    "## Understanding Dimensionality and Shape"
   ]
  },
  {
   "cell_type": "code",
   "execution_count": 6,
   "metadata": {},
   "outputs": [],
   "source": [
    "import numpy as np"
   ]
  },
  {
   "cell_type": "code",
   "execution_count": 7,
   "metadata": {},
   "outputs": [
    {
     "name": "stdout",
     "output_type": "stream",
     "text": [
      "<class 'numpy.ndarray'> [1 2 3]\n"
     ]
    }
   ],
   "source": [
    "l = [1,2,3]\n",
    "\n",
    "x1 = np.array(l)\n",
    "print(type(x1),x1)"
   ]
  },
  {
   "cell_type": "code",
   "execution_count": 9,
   "metadata": {},
   "outputs": [
    {
     "name": "stdout",
     "output_type": "stream",
     "text": [
      "Dimentionality of the numpy array :  1\n",
      "Shape of the numpy array :  (3,)\n"
     ]
    }
   ],
   "source": [
    "print(\"Dimentionality of the numpy array : \",x1.ndim) # gives no of nested brackets in the numPy array\n",
    "print(\"Shape of the numpy array : \",x1.shape)  # gives the shape each and every dimension"
   ]
  },
  {
   "cell_type": "code",
   "execution_count": 10,
   "metadata": {},
   "outputs": [
    {
     "name": "stdout",
     "output_type": "stream",
     "text": [
      "[[1]\n",
      " [2]\n",
      " [3]]\n",
      "Dimentionality of the numpy array :  2\n",
      "Shape of the numpy array :  (3, 1)\n"
     ]
    }
   ],
   "source": [
    "x2 = np.array( [ [1] , [2] , [3] ] )\n",
    "print(x2)\n",
    "print(\"Dimentionality of the numpy array : \",x2.ndim) # gives no of nested brackets in the numPy array\n",
    "print(\"Shape of the numpy array : \",x2.shape)  # gives the shape each and every dimension"
   ]
  },
  {
   "cell_type": "code",
   "execution_count": 1,
   "metadata": {},
   "outputs": [
    {
     "name": "stdout",
     "output_type": "stream",
     "text": [
      "[[10  9]\n",
      " [ 8  7]\n",
      " [ 6  5]\n",
      " [ 4  3]\n",
      " [ 2 10]\n",
      " [ 9  8]]\n",
      "[[10  9  8]\n",
      " [ 7  6  5]\n",
      " [ 4  3  2]]\n",
      "Dimentionality of the numpy array :  2\n",
      "Shape of the numpy array :  (3, 3)\n"
     ]
    }
   ],
   "source": [
    "import numpy as np\n",
    "x2 = np.array([[10,9,8],[7,6,5],[4,3,2]])\n",
    "resized_matrix = np.resize(x2,(6,2))       # Resizing the matrix\n",
    "print(resized_matrix)\n",
    "print(x2)\n",
    "print(\"Dimentionality of the numpy array : \",x2.ndim) # gives no of nested brackets in the numPy array\n",
    "print(\"Shape of the numpy array : \",x2.shape)  # gives the shape each and every dimension"
   ]
  },
  {
   "cell_type": "code",
   "execution_count": 5,
   "metadata": {},
   "outputs": [
    {
     "name": "stdout",
     "output_type": "stream",
     "text": [
      "Help on function resize in module numpy:\n",
      "\n",
      "resize(a, new_shape)\n",
      "    Return a new array with the specified shape.\n",
      "    \n",
      "    If the new array is larger than the original array, then the new\n",
      "    array is filled with repeated copies of `a`.  Note that this behavior\n",
      "    is different from a.resize(new_shape) which fills with zeros instead\n",
      "    of repeated copies of `a`.\n",
      "    \n",
      "    Parameters\n",
      "    ----------\n",
      "    a : array_like\n",
      "        Array to be resized.\n",
      "    \n",
      "    new_shape : int or tuple of int\n",
      "        Shape of resized array.\n",
      "    \n",
      "    Returns\n",
      "    -------\n",
      "    reshaped_array : ndarray\n",
      "        The new array is formed from the data in the old array, repeated\n",
      "        if necessary to fill out the required number of elements.  The\n",
      "        data are repeated in the order that they are stored in memory.\n",
      "    \n",
      "    See Also\n",
      "    --------\n",
      "    ndarray.resize : resize an array in-place.\n",
      "    \n",
      "    Notes\n",
      "    -----\n",
      "    Warning: This functionality does **not** consider axes separately,\n",
      "    i.e. it does not apply interpolation/extrapolation.\n",
      "    It fills the return array with the required number of elements, taken\n",
      "    from `a` as they are laid out in memory, disregarding strides and axes.\n",
      "    (This is in case the new shape is smaller. For larger, see above.)\n",
      "    This functionality is therefore not suitable to resize images,\n",
      "    or data where each axis represents a separate and distinct entity.\n",
      "    \n",
      "    Examples\n",
      "    --------\n",
      "    >>> a=np.array([[0,1],[2,3]])\n",
      "    >>> np.resize(a,(2,3))\n",
      "    array([[0, 1, 2],\n",
      "           [3, 0, 1]])\n",
      "    >>> np.resize(a,(1,4))\n",
      "    array([[0, 1, 2, 3]])\n",
      "    >>> np.resize(a,(2,4))\n",
      "    array([[0, 1, 2, 3],\n",
      "           [0, 1, 2, 3]])\n",
      "\n"
     ]
    }
   ],
   "source": [
    "help(np.resize)"
   ]
  },
  {
   "cell_type": "code",
   "execution_count": 6,
   "metadata": {},
   "outputs": [
    {
     "name": "stdout",
     "output_type": "stream",
     "text": [
      "[[[ 1  2 10]\n",
      "  [ 3  4 20]]\n",
      "\n",
      " [[ 5  6 30]\n",
      "  [ 7  8 40]]]\n",
      "Dimentionality of the numpy array :  3\n",
      "Shape of the numpy array :  (2, 2, 3)\n"
     ]
    }
   ],
   "source": [
    "x3 = np.array([[[1,2,10],[3,4,20]],[[5,6,30],[7,8,40]]])\n",
    "\n",
    "print(x3)\n",
    "print(\"Dimentionality of the numpy array : \",x3.ndim) # gives no of nested brackets in the numPy array\n",
    "print(\"Shape of the numpy array : \",x3.shape)  # gives the shape each and every dimension"
   ]
  },
  {
   "cell_type": "markdown",
   "metadata": {},
   "source": [
    "## Operations on NumPy arrays"
   ]
  },
  {
   "cell_type": "code",
   "execution_count": 7,
   "metadata": {},
   "outputs": [
    {
     "name": "stdout",
     "output_type": "stream",
     "text": [
      "[[10  9  8]\n",
      " [ 7  6  5]\n",
      " [ 4  3  2]]\n",
      "\n",
      "[[11 22 33]\n",
      " [54 12 10]\n",
      " [ 5  4  9]]\n"
     ]
    }
   ],
   "source": [
    "A = np.array([[10,9,8],[7,6,5],[4,3,2]])\n",
    "B = np.array([[11,22,33],[54,12,10],[5,4,9]])\n",
    "\n",
    "print(A)\n",
    "print()\n",
    "print(B)"
   ]
  },
  {
   "cell_type": "code",
   "execution_count": 18,
   "metadata": {},
   "outputs": [
    {
     "name": "stdout",
     "output_type": "stream",
     "text": [
      "[[21 31 41]\n",
      " [61 18 15]\n",
      " [ 9  7 11]]\n"
     ]
    }
   ],
   "source": [
    "print(A + B)  # Addition"
   ]
  },
  {
   "cell_type": "code",
   "execution_count": 19,
   "metadata": {},
   "outputs": [
    {
     "name": "stdout",
     "output_type": "stream",
     "text": [
      "[[ -1 -13 -25]\n",
      " [-47  -6  -5]\n",
      " [ -1  -1  -7]]\n"
     ]
    }
   ],
   "source": [
    "print(A - B)  # Subtraction"
   ]
  },
  {
   "cell_type": "code",
   "execution_count": 15,
   "metadata": {},
   "outputs": [
    {
     "name": "stdout",
     "output_type": "stream",
     "text": [
      "[[110 198 264]\n",
      " [378  72  50]\n",
      " [ 20  12  18]]\n"
     ]
    }
   ],
   "source": [
    "print(A * B)  # Element-wise Multiplication"
   ]
  },
  {
   "cell_type": "code",
   "execution_count": 16,
   "metadata": {},
   "outputs": [
    {
     "name": "stdout",
     "output_type": "stream",
     "text": [
      "[[0.90909091 0.40909091 0.24242424]\n",
      " [0.12962963 0.5        0.5       ]\n",
      " [0.8        0.75       0.22222222]]\n"
     ]
    }
   ],
   "source": [
    "print(A / B)  # Element-wise Division"
   ]
  },
  {
   "cell_type": "code",
   "execution_count": 17,
   "metadata": {},
   "outputs": [
    {
     "name": "stdout",
     "output_type": "stream",
     "text": [
      "[[ 1 31 41]\n",
      " [49 10 15]\n",
      " [ 1  7 11]]\n"
     ]
    }
   ],
   "source": [
    "print(A ^ B)  # Element-wise XOR"
   ]
  },
  {
   "cell_type": "code",
   "execution_count": 14,
   "metadata": {},
   "outputs": [
    {
     "name": "stdout",
     "output_type": "stream",
     "text": [
      "[[636 360 492]\n",
      " [426 246 336]\n",
      " [216 132 180]]\n"
     ]
    }
   ],
   "source": [
    "print(A @ B)  # Matrix multiplication of A and B\n",
    "# (3,3) @ (3,3) => {3,3}"
   ]
  },
  {
   "cell_type": "code",
   "execution_count": 21,
   "metadata": {},
   "outputs": [
    {
     "name": "stdout",
     "output_type": "stream",
     "text": [
      "[[10  9  8]\n",
      " [ 7  6  5]\n",
      " [ 4  3  2]]\n",
      "\n",
      "[[10  7  4]\n",
      " [ 9  6  3]\n",
      " [ 8  5  2]]\n"
     ]
    }
   ],
   "source": [
    "print(A)\n",
    "print()\n",
    "print(A.T)  # Transpose of A"
   ]
  },
  {
   "cell_type": "code",
   "execution_count": 27,
   "metadata": {},
   "outputs": [
    {
     "name": "stdout",
     "output_type": "stream",
     "text": [
      "[[1 2 3]] (1, 3) \n",
      "\n",
      "[[1]\n",
      " [2]\n",
      " [3]] (3, 1)\n"
     ]
    }
   ],
   "source": [
    "X = np.array([[1,2,3]]) # Row Matrix\n",
    "\n",
    "print(X,X.shape, '\\n')\n",
    "\n",
    "X_trans = X.T\n",
    "print(X_trans,X_trans.shape) # Column Matrix"
   ]
  },
  {
   "cell_type": "code",
   "execution_count": 29,
   "metadata": {},
   "outputs": [
    {
     "name": "stdout",
     "output_type": "stream",
     "text": [
      "[[10  9  8]\n",
      " [ 7  6  5]\n",
      " [ 4  3  2]]\n",
      "\n",
      "[10  9  8  7  6  5  4  3  2]\n"
     ]
    }
   ],
   "source": [
    "print(A)\n",
    "print()\n",
    "print(A.ravel())  # It brings to single dimensional array"
   ]
  },
  {
   "cell_type": "code",
   "execution_count": 30,
   "metadata": {},
   "outputs": [
    {
     "name": "stdout",
     "output_type": "stream",
     "text": [
      "[[11 22 33]\n",
      " [54 12 10]\n",
      " [ 5  4  9]]\n",
      "\n",
      "-3696.0\n"
     ]
    }
   ],
   "source": [
    "print(B)\n",
    "print()\n",
    "print(np.linalg.det(B))   # Determinant of matrix"
   ]
  },
  {
   "cell_type": "code",
   "execution_count": 33,
   "metadata": {},
   "outputs": [
    {
     "name": "stdout",
     "output_type": "stream",
     "text": [
      "[[11 22 33]\n",
      " [54 12 10]\n",
      " [ 5  4  9]]\n",
      "\n",
      "[[-0.01839827  0.01785714  0.04761905]\n",
      " [ 0.11796537  0.01785714 -0.45238095]\n",
      " [-0.04220779 -0.01785714  0.28571429]]\n",
      "\n",
      "[[ 1.  0.  0.]\n",
      " [ 0.  1. -0.]\n",
      " [ 0.  0.  1.]]\n"
     ]
    }
   ],
   "source": [
    "print(B)\n",
    "print()\n",
    "\n",
    "B_inv = np.linalg.inv(B)  # Inverse of a matrix\n",
    "print(B_inv)\n",
    "print()\n",
    "\n",
    "print((B_inv @ B).round(0))  # B @ B_inv = I (Identity matrix)"
   ]
  },
  {
   "cell_type": "code",
   "execution_count": 35,
   "metadata": {},
   "outputs": [
    {
     "name": "stdout",
     "output_type": "stream",
     "text": [
      "[[2.39789527 3.09104245 3.49650756]\n",
      " [3.98898405 2.48490665 2.30258509]\n",
      " [1.60943791 1.38629436 2.19722458]] \n",
      "\n",
      "[[-0.99999021 -0.00885131  0.99991186]\n",
      " [-0.55878905 -0.53657292 -0.54402111]\n",
      " [-0.95892427 -0.7568025   0.41211849]] \n",
      "\n",
      "[[-2.25950846e+02  8.85165604e-03 -7.53130148e+01]\n",
      " [ 6.73800101e-01 -6.35859929e-01  6.48360827e-01]\n",
      " [-3.38051501e+00  1.15782128e+00 -4.52315659e-01]] \n",
      "\n",
      "[[5.98741417e+04 3.58491285e+09 2.14643580e+14]\n",
      " [2.83075330e+23 1.62754791e+05 2.20264658e+04]\n",
      " [1.48413159e+02 5.45981500e+01 8.10308393e+03]] \n",
      "\n"
     ]
    }
   ],
   "source": [
    "print(np.log(B),'\\n')    # element-wise log \n",
    "print(np.sin(B),'\\n')    # element-wise sin\n",
    "print(np.tan(B),'\\n')    # element-wise tan\n",
    "print(np.exp(B),'\\n')    # element-wise exponentiation"
   ]
  },
  {
   "cell_type": "markdown",
   "metadata": {},
   "source": [
    "## Broadcasting in numPy"
   ]
  },
  {
   "cell_type": "code",
   "execution_count": 37,
   "metadata": {},
   "outputs": [
    {
     "name": "stdout",
     "output_type": "stream",
     "text": [
      "[[1 2 3]\n",
      " [4 5 6]\n",
      " [7 8 9]] (3, 3) \n",
      "\n",
      "[[1 1 1]] (1, 3) \n",
      "\n",
      "[[2]\n",
      " [2]\n",
      " [2]] (3, 1) \n",
      "\n"
     ]
    }
   ],
   "source": [
    "A = np.array([[1,2,3],[4,5,6],[7,8,9]])\n",
    "X = np.array([[1,1,1]])\n",
    "Y = np.array([[2],[2],[2]])\n",
    "\n",
    "print(A, A.shape, '\\n')\n",
    "print(X, X.shape, '\\n')\n",
    "print(Y, Y.shape, '\\n')"
   ]
  },
  {
   "cell_type": "code",
   "execution_count": 39,
   "metadata": {},
   "outputs": [
    {
     "name": "stdout",
     "output_type": "stream",
     "text": [
      "[[11 12 13]\n",
      " [14 15 16]\n",
      " [17 18 19]]\n"
     ]
    }
   ],
   "source": [
    "print(A + 10)  # 10 will be broadcasted to add to element of A"
   ]
  },
  {
   "cell_type": "code",
   "execution_count": 40,
   "metadata": {},
   "outputs": [
    {
     "name": "stdout",
     "output_type": "stream",
     "text": [
      "[[ 2  3  4]\n",
      " [ 5  6  7]\n",
      " [ 8  9 10]]\n"
     ]
    }
   ],
   "source": [
    "print(A + X)  # X will be broadcasted to add to each element of A"
   ]
  },
  {
   "cell_type": "code",
   "execution_count": 41,
   "metadata": {},
   "outputs": [
    {
     "name": "stdout",
     "output_type": "stream",
     "text": [
      "[[ 3  4  5]\n",
      " [ 6  7  8]\n",
      " [ 9 10 11]]\n"
     ]
    }
   ],
   "source": [
    "print(A + Y) # Y will be broadcasted to add to each element of A"
   ]
  },
  {
   "cell_type": "code",
   "execution_count": 42,
   "metadata": {},
   "outputs": [
    {
     "name": "stdout",
     "output_type": "stream",
     "text": [
      "[[3 3 3]\n",
      " [3 3 3]\n",
      " [3 3 3]]\n"
     ]
    }
   ],
   "source": [
    "print(X + Y) # Broadcasting of X and Y"
   ]
  },
  {
   "cell_type": "markdown",
   "metadata": {},
   "source": [
    "## Other np methods"
   ]
  },
  {
   "cell_type": "code",
   "execution_count": 45,
   "metadata": {},
   "outputs": [
    {
     "name": "stdout",
     "output_type": "stream",
     "text": [
      "[0 1 2 3 4 5 6 7 8 9]\n",
      "\n",
      "[[0 1 2]\n",
      " [3 4 5]\n",
      " [6 7 8]]\n"
     ]
    }
   ],
   "source": [
    "A = np.arange(10)  # Similar to range function..It take values from 0 to 9\n",
    "print(A)\n",
    "print()\n",
    "\n",
    "print(np.resize(A,(3,3)))"
   ]
  },
  {
   "cell_type": "code",
   "execution_count": 51,
   "metadata": {},
   "outputs": [
    {
     "name": "stdout",
     "output_type": "stream",
     "text": [
      "[[0. 0. 0. 0.]\n",
      " [0. 0. 0. 0.]]\n"
     ]
    }
   ],
   "source": [
    "A = np.zeros((2,4))   # Zero matrix of given shape\n",
    "print(A)"
   ]
  },
  {
   "cell_type": "code",
   "execution_count": 52,
   "metadata": {},
   "outputs": [
    {
     "name": "stdout",
     "output_type": "stream",
     "text": [
      "[[1. 0. 0. 0. 0.]\n",
      " [0. 1. 0. 0. 0.]\n",
      " [0. 0. 1. 0. 0.]\n",
      " [0. 0. 0. 1. 0.]\n",
      " [0. 0. 0. 0. 1.]]\n"
     ]
    }
   ],
   "source": [
    "I = np.eye(5) # Identity matrix of given size\n",
    "print(I)"
   ]
  },
  {
   "cell_type": "code",
   "execution_count": 53,
   "metadata": {},
   "outputs": [
    {
     "name": "stdout",
     "output_type": "stream",
     "text": [
      "[[0.1914778  0.31637913]\n",
      " [0.83473782 0.94515873]]\n"
     ]
    }
   ],
   "source": [
    "A = np.random.random((2,2)) # Random values from 0-1 of given shape\n",
    "print(A)"
   ]
  },
  {
   "cell_type": "markdown",
   "metadata": {},
   "source": [
    "#### For more methods of numpy , we can search in numpy.org"
   ]
  }
 ],
 "metadata": {
  "kernelspec": {
   "display_name": "Python 3",
   "language": "python",
   "name": "python3"
  },
  "language_info": {
   "codemirror_mode": {
    "name": "ipython",
    "version": 3
   },
   "file_extension": ".py",
   "mimetype": "text/x-python",
   "name": "python",
   "nbconvert_exporter": "python",
   "pygments_lexer": "ipython3",
   "version": "3.8.3"
  }
 },
 "nbformat": 4,
 "nbformat_minor": 4
}
