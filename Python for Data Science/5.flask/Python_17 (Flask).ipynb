{
 "cells": [
  {
   "cell_type": "markdown",
   "metadata": {},
   "source": [
    "# Flask\n",
    "To develop web applications for small scale applications."
   ]
  },
  {
   "cell_type": "raw",
   "metadata": {},
   "source": [
    "#home.py\n",
    "# basic structure of flask\n",
    "from flask import Flask\n",
    "\n",
    "app = Flask(__name__)     # creating instance of flask\n",
    "\n",
    "@app.route(\"/\")           # routing\n",
    "def index():\n",
    "    return \"hello world\"  # returning hello world string to the routing\n",
    "\n",
    "if __name__=='__main__':\n",
    "    app.run(debug = True)"
   ]
  },
  {
   "cell_type": "raw",
   "metadata": {},
   "source": [
    "C:\\Users\\Public\\Flask Course> #(This is the folder where your file is present)\n",
    "\n",
    "C:\\Users\\Public\\Flask Course>set FLASK_APP = home  # flask app name should be same as our python file\n",
    "\n",
    "C:\\Users\\Public\\Flask Course>flask run"
   ]
  },
  {
   "cell_type": "markdown",
   "metadata": {},
   "source": [
    "### html and flask applications"
   ]
  },
  {
   "cell_type": "markdown",
   "metadata": {},
   "source": [
    "adding html templete to flask applications.<br>\n",
    "* flask applications access html files only if they are present in the folder named 'templates'.We can't give other names to the folder."
   ]
  },
  {
   "cell_type": "raw",
   "metadata": {},
   "source": [
    "#indexhtml.html\n",
    "\n",
    "<!DOCTYPE html>\n",
    "<html>\n",
    "<head>\n",
    "     <title>Home Page</title>\n",
    "</head>\n",
    "<body>\n",
    "welcome to python course of indian servers\n",
    "</body>\n",
    "</html>"
   ]
  },
  {
   "cell_type": "raw",
   "metadata": {},
   "source": [
    "#home.py\n",
    "\n",
    "from flask import Flask,render_template  # render_template can be used to call our html file\n",
    "\n",
    "app = Flask(__name__)\n",
    "\n",
    "@app.route(\"/\")\n",
    "def index():\n",
    "    return render_template('indexhtml.html')\n",
    "    \n",
    "if __name__=='__main__':\n",
    "    app.run(debug = True)"
   ]
  },
  {
   "cell_type": "markdown",
   "metadata": {},
   "source": [
    "sending data from flask server to html page"
   ]
  },
  {
   "cell_type": "raw",
   "metadata": {},
   "source": [
    "# home.py\n",
    "\n",
    "from flask import Flask,render_template \n",
    "\n",
    "app = Flask(__name__)\n",
    "\n",
    "@app.route(\"/\")\n",
    "def index():\n",
    "    d = 90                                           # creating a variable named 'd'\n",
    "    return render_template('indexhtml.html',s=d)     #passing variable using render_template\n",
    "    \n",
    "if __name__=='__main__':\n",
    "    app.run(debug = True)"
   ]
  },
  {
   "cell_type": "raw",
   "metadata": {},
   "source": [
    "#indexhtml.html\n",
    "\n",
    "<!DOCTYPE html>\n",
    "<html>\n",
    "<head>\n",
    "     <title>Home Page</title>\n",
    "</head>\n",
    "<body>\n",
    "welcome to python course of indian servers\n",
    "{{ s }}            # jinjaar templating ...we will get 90 in our web page\n",
    "</body>\n",
    "</html>"
   ]
  },
  {
   "cell_type": "raw",
   "metadata": {},
   "source": [
    "#indexhtml.html\n",
    "\n",
    "<!DOCTYPE html>\n",
    "<html>\n",
    "<head>\n",
    "     <title>Home Page</title>\n",
    "</head>\n",
    "<body>\n",
    "welcome to python course of indian servers\n",
    "{{ s+100 }}            \n",
    "</body>\n",
    "</html>\n",
    "\n",
    "# we will still get 90 in the answer.\n",
    "# bcoz we have to restrart our server.Even if we restrarted,we may not get correct answer due to be some cache.\n",
    "# If any of those issues occur, then we have to delete __pycache__ folder"
   ]
  },
  {
   "cell_type": "markdown",
   "metadata": {},
   "source": [
    "dynamic pages"
   ]
  },
  {
   "cell_type": "raw",
   "metadata": {},
   "source": [
    "# home.py\n",
    "## the name of the functions shouldn't be same and routes can be changed\n",
    "\n",
    "\n",
    "from flask import Flask,render_template \n",
    "\n",
    "app = Flask(__name__)\n",
    "\n",
    "@app.route(\"/\")                                # base page\n",
    "def index():                                        \n",
    "    return render_template('indexhtml.html')\n",
    "    \n",
    "@app.route(\"/display\")                         # second page\n",
    "def dis():                                     \n",
    "    d = 90                                           \n",
    "    return render_template('indexhtml.html',s=d) \n",
    "    \n",
    "if __name__=='__main__':\n",
    "    app.run(debug = True)"
   ]
  }
 ],
 "metadata": {
  "kernelspec": {
   "display_name": "Python 3",
   "language": "python",
   "name": "python3"
  },
  "language_info": {
   "codemirror_mode": {
    "name": "ipython",
    "version": 3
   },
   "file_extension": ".py",
   "mimetype": "text/x-python",
   "name": "python",
   "nbconvert_exporter": "python",
   "pygments_lexer": "ipython3",
   "version": "3.8.3"
  }
 },
 "nbformat": 4,
 "nbformat_minor": 4
}
