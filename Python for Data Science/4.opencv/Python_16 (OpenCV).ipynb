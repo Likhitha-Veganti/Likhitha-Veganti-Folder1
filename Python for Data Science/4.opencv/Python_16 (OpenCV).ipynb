{
 "cells": [
  {
   "cell_type": "markdown",
   "metadata": {},
   "source": [
    "# OpenCV\n",
    "### Open Source Computer Vision Library\n",
    "It is an open source computer vision and machine learning software library.<br> \n",
    "It is the Eye of Python.<br>\n",
    "OpenCV was Originally Developed by intel and launched in 1999.<br>\n",
    "OpenCV is cross-platform and free for use under the open-source Apache 2 License Starting with 2011.<br>\n",
    "OpenCV was Developed in C++.<br>\n",
    "Pogramming languages like Python & Java got wrappers to use OpenCV.<br>"
   ]
  },
  {
   "cell_type": "markdown",
   "metadata": {},
   "source": [
    "##### Installation:\n",
    "* pip install opencv-python"
   ]
  },
  {
   "cell_type": "markdown",
   "metadata": {},
   "source": [
    "Generally, a video is collection of images running fastly i.e., nearly 24 frames per sec.<br>\n",
    "Image is a combination of thousands or millions of pixels."
   ]
  },
  {
   "cell_type": "markdown",
   "metadata": {},
   "source": [
    "##### What is pixel?\n",
    "The smallest addressable element component of the image.<br>\n",
    "Each pixel consists of a number to represent it."
   ]
  },
  {
   "cell_type": "markdown",
   "metadata": {},
   "source": [
    "### Important Colour Formats"
   ]
  },
  {
   "cell_type": "raw",
   "metadata": {},
   "source": [
    "* Grey Scale - 0 to 255 for each pixel value.\n",
    "* RGB(Red, Green, Blue) - Each Pixel having values of 0-255 for each corresponding R,G and B.(We have 3 values for each pixel).\n",
    "* BGR(Blue, Green, red)\n",
    "* CMYK(Cyan, Magenta, Yellow, Black)\n",
    "* HSV(Hue, Saturation, Value)"
   ]
  },
  {
   "cell_type": "markdown",
   "metadata": {},
   "source": [
    "# Practical Implementation of OpenCV\n",
    "* 1. Processing Image with OpenCV\n",
    "* 2. Application of OpenCV (Face detection with OpenCV)"
   ]
  },
  {
   "cell_type": "markdown",
   "metadata": {},
   "source": [
    "### 1.Processing Image with OpenCV"
   ]
  },
  {
   "cell_type": "raw",
   "metadata": {},
   "source": [
    "from google.colab import files\n",
    "uploaded = files.upload()     #upload files.(cvcolab3.jpg , cvlab2.jpg , faces.jpg)\n",
    "\n",
    "# Loading image\n",
    "\n",
    "import cv2\n",
    "img = cv2.imread('cvlab2.jpg') #imread func will help us read the file\n",
    "\n",
    "print(img)\n",
    "print(type(img))  # numpy array\n",
    "# img will contain numpy array\n",
    "\n",
    "print(img.shape)\n",
    "#(720, 1280, 3)...3 represents last stage of numpy array consists of 3 values.\n",
    "#Those 3 values are 3 bands.(red,green,blue).\n",
    "\n",
    "\n",
    "\n",
    "import matplotlib.pyplot as plt\n",
    "plt.imshow(img)      #imshow() is used to display the image.\n",
    "plt.show()\n",
    "# OpenCV understands the image in form of BGR. Matplotlib understands image in form of RGB.\n",
    "# So, our image will be displayed in different format than original image.\n",
    "\n",
    "\n",
    "import matplotlib.pyplot as plt\n",
    "img=cv2.cvtColor(img, cv2.COLOR_BGR2RGB)  # cvtColor() is used to change the image color format.We have this fun() in openCV\n",
    "plt.imshow(img)\n",
    "plt.show()\n",
    "# Now,we will get the original image.\n",
    "\n",
    "\n",
    "\n",
    "\n",
    "#Modifying Image\n",
    "\n",
    "img = cv2.imread('cvcolab3.jpg')\n",
    "\n",
    "img[0][0]=[220,0,0]\n",
    "img=cv2.cvtColor(img, cv2.COLOR_BGR2RGB) \n",
    "plt.imshow(img)\n",
    "plt.show()\n",
    "\n",
    "#Nothing, much diff in original image.Though we make simple modification in a pixel, it doesn't have any impact.\n",
    "\n",
    "\n",
    "for i in range(100,500):\n",
    "    for j in range(100,600):\n",
    "        img[i][j]=[0,0,0]\n",
    "\n",
    "img=cv2.cvtColor(img, cv2.COLOR_BGR2RGB) \n",
    "plt.imshow(img)\n",
    "plt.show()\n",
    "\n",
    "# The above ranges of values are black in color in resulting image."
   ]
  },
  {
   "cell_type": "markdown",
   "metadata": {},
   "source": [
    "### Drawing box"
   ]
  },
  {
   "cell_type": "raw",
   "metadata": {},
   "source": [
    "img = cv2.imread('cvcolab3.jpg')\n",
    "start_point = (1280,100)\n",
    "end_point = (1700,900)\n",
    "color=[0,0,255]\n",
    "thickness = 30\n",
    "\n",
    "img1 = cv2.rectangle(img, start_point, end_point,color,thickness)\n",
    "\n",
    "img = cv2.cvtColor(img,cv2.COLOR_BGR2RGB)\n",
    "plt.imshow(img)\n",
    "plt.show()"
   ]
  },
  {
   "cell_type": "markdown",
   "metadata": {},
   "source": [
    "### Adding text to image"
   ]
  },
  {
   "cell_type": "raw",
   "metadata": {},
   "source": [
    "img = cv2.imread('cvcolab3.jpg')\n",
    "org=(600,700)       # starting point of text\n",
    "font=cv2.FONT_ITALIC\n",
    "thickness = 20\n",
    "font_scale = 7    # Scale of the font.It varies acc to type of the font.\n",
    "text = \"Hello\"\n",
    "\n",
    "img = cv2.putText(img, text, org, font, font_Scale, color, thickness, cv2.LINE_AA, False) \n",
    "# putText() add text to image\n",
    "# img, text, org, font, font_Scale, color are mandatory in putText()\n",
    "\n",
    "img = cv2.cvtColor(img,cv2.COLOR_BGR2RGB)\n",
    "plt.imshow(img)\n",
    "plt.show()"
   ]
  },
  {
   "cell_type": "markdown",
   "metadata": {},
   "source": [
    "### Preprocessing Image"
   ]
  },
  {
   "cell_type": "markdown",
   "metadata": {},
   "source": [
    "#### Resizing Image"
   ]
  },
  {
   "cell_type": "raw",
   "metadata": {},
   "source": [
    "img = cv2.imread('cvcolab3.jpg')\n",
    "img = cv2.resize(img, (350,400))        # Used to resize the image.\n",
    "img = cv2.cvtColor(img,cv2.COLOR_BGR2RGB)\n",
    "plt.imshow(img)\n",
    "plt.show()"
   ]
  },
  {
   "cell_type": "markdown",
   "metadata": {},
   "source": [
    "#### Rotating an Image"
   ]
  },
  {
   "cell_type": "raw",
   "metadata": {},
   "source": [
    "# cv2.ROTATE_90_CLOCKWISE\n",
    "# CV2.ROTATE_90_COUNTERCLOCKWISE\n",
    "# CV2.ROTATE_180\n",
    "\n",
    "img = cv2.imread('cvcolab3.jpg')\n",
    "img = cv2.rotate(img, cv2.ROTATE_180) # Used to rotate an image\n",
    "img = cv2.cvtColor(img,cv2.COLOR_BGR2RGB)\n",
    "plt.imshow(img)\n",
    "plt.show()"
   ]
  },
  {
   "cell_type": "markdown",
   "metadata": {},
   "source": [
    "#### Edge Detection\n",
    "Edges are considered to be actual insights present in a particular image."
   ]
  },
  {
   "cell_type": "raw",
   "metadata": {},
   "source": [
    "img = cv2.imread('cvcolab3.jpg')\n",
    "edges = cv2.Canny(img,100,200)       # Helpful to detect edges present in the image\n",
    "edges = cv2.cvtColor(edges,cv2.COLOR_BGR2RGB)\n",
    "plt.imshow(img)\n",
    "plt.show()"
   ]
  },
  {
   "cell_type": "markdown",
   "metadata": {},
   "source": [
    "### 2.Face detection with openCV"
   ]
  },
  {
   "cell_type": "raw",
   "metadata": {},
   "source": [
    "# loading the Harcascade Classifier\n",
    "import matplotlib.pyplot as plt\n",
    "face_cascade = cv2.CascadeClassifier(cv2.data.haarcascdes + 'haarcascade_frontalface_default.xml')\n",
    "\n",
    "# loading the image\n",
    "img = cv2.imread('faces.jpg')\n",
    "# print(img)\n",
    "gray = cv2.cvtColor(img, cv2.COLOR_BGR2GRAY)\n",
    "\n",
    "# Detect the faces using\n",
    "faces = face_cascade.detectMultiScale(gray, 1.1, 4)\n",
    "\n",
    "# Drawing Rectangle on faces\n",
    "for(x,y,w,h) in faces:\n",
    "    cv2.rectangle(img,(x,y),(x+w,y+h),(255,0,0),2)\n",
    "    \n",
    "# display image\n",
    "img = cv2.cvtColor(img,cv2.COLOR_BGR2RGB)\n",
    "plt.imshow(img)\n",
    "plt.show()"
   ]
  }
 ],
 "metadata": {
  "kernelspec": {
   "display_name": "Python 3",
   "language": "python",
   "name": "python3"
  },
  "language_info": {
   "codemirror_mode": {
    "name": "ipython",
    "version": 3
   },
   "file_extension": ".py",
   "mimetype": "text/x-python",
   "name": "python",
   "nbconvert_exporter": "python",
   "pygments_lexer": "ipython3",
   "version": "3.8.3"
  }
 },
 "nbformat": 4,
 "nbformat_minor": 4
}
