{
 "cells": [
  {
   "cell_type": "code",
   "execution_count": 1,
   "metadata": {},
   "outputs": [],
   "source": [
    "%matplotlib inline"
   ]
  },
  {
   "cell_type": "markdown",
   "metadata": {},
   "source": [
    "# PyTorch\n",
    "It's a Python based scientific computing package targeted at two sets of audiences.\n",
    "* A replacement for NumPy to use the power of GPUs.\n",
    "* A deep learning research platform that provides maximum flexibility and speed."
   ]
  },
  {
   "cell_type": "markdown",
   "metadata": {},
   "source": [
    "## Getting Started\n",
    "Tensors<br>\n",
    "Tensors are similar to NumPy's ndarrays, with the addition being that Tensors can also be used on a GPU to accelerate computing."
   ]
  },
  {
   "cell_type": "code",
   "execution_count": 2,
   "metadata": {},
   "outputs": [],
   "source": [
    "from __future__ import print_function\n",
    "import torch"
   ]
  },
  {
   "cell_type": "markdown",
   "metadata": {},
   "source": [
    "##### 1.Construct a 5*3 matrix, uninitialized."
   ]
  },
  {
   "cell_type": "code",
   "execution_count": 3,
   "metadata": {},
   "outputs": [
    {
     "name": "stdout",
     "output_type": "stream",
     "text": [
      "tensor([[1.9349e-19, 4.5445e+30, 4.7429e+30],\n",
      "        [7.1354e+31, 7.1118e-04, 1.7444e+28],\n",
      "        [7.3909e+22, 4.5828e+30, 3.2483e+33],\n",
      "        [1.9690e-19, 6.8589e+22, 1.3340e+31],\n",
      "        [1.1708e-19, 7.2128e+22, 9.2216e+29]])\n"
     ]
    }
   ],
   "source": [
    "x = torch.empty(5,3)    # Creating a empty tensor of size 5*3.\n",
    "# We will get values already existing in the memory i.e., some garbage values\n",
    "print(x)"
   ]
  },
  {
   "cell_type": "markdown",
   "metadata": {},
   "source": [
    "##### 2.Construct a randomly initialized  matrix."
   ]
  },
  {
   "cell_type": "code",
   "execution_count": 4,
   "metadata": {},
   "outputs": [
    {
     "name": "stdout",
     "output_type": "stream",
     "text": [
      "tensor([[0.9247, 0.5996, 0.2167],\n",
      "        [0.6869, 0.0403, 0.2887],\n",
      "        [0.1835, 0.5055, 0.1264],\n",
      "        [0.9347, 0.5936, 0.5389],\n",
      "        [0.9924, 0.9569, 0.5236]])\n"
     ]
    }
   ],
   "source": [
    "x = torch.rand(5,3)  # Creating a tensor with random values ranging from 0 to 1\n",
    "print(x)"
   ]
  },
  {
   "cell_type": "markdown",
   "metadata": {},
   "source": [
    "##### 3.Construct a matrix filled zeros and dtype long."
   ]
  },
  {
   "cell_type": "code",
   "execution_count": 5,
   "metadata": {},
   "outputs": [
    {
     "name": "stdout",
     "output_type": "stream",
     "text": [
      "tensor([[0, 0, 0],\n",
      "        [0, 0, 0],\n",
      "        [0, 0, 0],\n",
      "        [0, 0, 0],\n",
      "        [0, 0, 0]])\n"
     ]
    }
   ],
   "source": [
    "x = torch.zeros(5,3, dtype = torch.long)  # Creating a tensor with 0 values and dtype as long. \n",
    "print(x)"
   ]
  },
  {
   "cell_type": "markdown",
   "metadata": {},
   "source": [
    "##### 4.Construct a tensor directly from data."
   ]
  },
  {
   "cell_type": "code",
   "execution_count": 6,
   "metadata": {},
   "outputs": [
    {
     "name": "stdout",
     "output_type": "stream",
     "text": [
      "tensor([5, 5, 3])\n"
     ]
    }
   ],
   "source": [
    "x = torch.tensor([5,5,3]) # Creating a tensor with values [5,5,3]\n",
    "print(x)"
   ]
  },
  {
   "cell_type": "markdown",
   "metadata": {},
   "source": [
    "##### or create a tensor based on a existing tensor. These methods will reuse properties of the input tensor,e.g. dtype,unless new values are provided by the user."
   ]
  },
  {
   "cell_type": "code",
   "execution_count": 7,
   "metadata": {},
   "outputs": [
    {
     "name": "stdout",
     "output_type": "stream",
     "text": [
      "tensor([[1., 1., 1.],\n",
      "        [1., 1., 1.],\n",
      "        [1., 1., 1.],\n",
      "        [1., 1., 1.],\n",
      "        [1., 1., 1.]], dtype=torch.float64)\n",
      "tensor([[ 0.4285, -0.5936, -0.9010],\n",
      "        [ 0.4620,  0.8481, -0.2819],\n",
      "        [ 0.7065, -0.7924,  0.9688],\n",
      "        [ 1.3460,  0.7535,  0.9499],\n",
      "        [ 0.2453, -0.3622, -1.5017]])\n"
     ]
    }
   ],
   "source": [
    "x = x.new_ones(5,3,dtype=torch.double)     # new_* methods take in sizes.\n",
    "print(x)\n",
    "\n",
    "y = torch.randn_like(x, dtype=torch.float)  # *_like methods\n",
    "# The above code overrides dtype!\n",
    "print(y)                                   # result has the same size"
   ]
  },
  {
   "cell_type": "markdown",
   "metadata": {},
   "source": [
    "##### 5.Get it's size"
   ]
  },
  {
   "cell_type": "code",
   "execution_count": 8,
   "metadata": {},
   "outputs": [
    {
     "name": "stdout",
     "output_type": "stream",
     "text": [
      "torch.Size([5, 3])\n",
      "torch.Size([5, 3])\n"
     ]
    }
   ],
   "source": [
    "print(x.size())\n",
    "print(y.size())"
   ]
  },
  {
   "cell_type": "code",
   "execution_count": 9,
   "metadata": {},
   "outputs": [
    {
     "name": "stdout",
     "output_type": "stream",
     "text": [
      "5\n",
      "3\n"
     ]
    }
   ],
   "source": [
    "s = x.size()\n",
    "print(s[0])\n",
    "print(s[1])"
   ]
  },
  {
   "cell_type": "markdown",
   "metadata": {},
   "source": [
    "<br>\n",
    "Note <br>\n",
    "\"torch.size\" is in fact a tuple, so it supports all tuple operations.<br>\n",
    "Operations<br>\n",
    "There are multiple syntaxes for the operations.In the following example, we will take a look at the addition operation.\n",
    "<br><br>\n",
    "Addition: syntax 1"
   ]
  },
  {
   "cell_type": "code",
   "execution_count": 10,
   "metadata": {},
   "outputs": [
    {
     "name": "stdout",
     "output_type": "stream",
     "text": [
      "tensor([[1.0621, 1.7502, 1.6451],\n",
      "        [1.4450, 1.9086, 1.2129],\n",
      "        [1.9460, 1.8682, 1.3145],\n",
      "        [1.4709, 1.9640, 1.3083],\n",
      "        [1.0486, 1.8586, 1.1142]], dtype=torch.float64)\n"
     ]
    }
   ],
   "source": [
    "y = torch.rand(5,3)\n",
    "print(x+y)"
   ]
  },
  {
   "cell_type": "markdown",
   "metadata": {},
   "source": [
    "<br>\n",
    "Addition: syntax 2"
   ]
  },
  {
   "cell_type": "code",
   "execution_count": 11,
   "metadata": {},
   "outputs": [
    {
     "name": "stdout",
     "output_type": "stream",
     "text": [
      "tensor([[1.0621, 1.7502, 1.6451],\n",
      "        [1.4450, 1.9086, 1.2129],\n",
      "        [1.9460, 1.8682, 1.3145],\n",
      "        [1.4709, 1.9640, 1.3083],\n",
      "        [1.0486, 1.8586, 1.1142]], dtype=torch.float64)\n"
     ]
    }
   ],
   "source": [
    "print(torch.add(x,y))"
   ]
  },
  {
   "cell_type": "markdown",
   "metadata": {},
   "source": [
    "<br>\n",
    "Addition: providing an output tensor as argument"
   ]
  },
  {
   "cell_type": "code",
   "execution_count": 12,
   "metadata": {},
   "outputs": [
    {
     "name": "stdout",
     "output_type": "stream",
     "text": [
      "tensor([[1.0621, 1.7502, 1.6451],\n",
      "        [1.4450, 1.9086, 1.2129],\n",
      "        [1.9460, 1.8682, 1.3145],\n",
      "        [1.4709, 1.9640, 1.3083],\n",
      "        [1.0486, 1.8586, 1.1142]])\n"
     ]
    }
   ],
   "source": [
    "result = torch.empty(5,3)\n",
    "torch.add(x, y, out=result)\n",
    "print(result)"
   ]
  },
  {
   "cell_type": "markdown",
   "metadata": {},
   "source": [
    "<br>\n",
    "Addition: in-place"
   ]
  },
  {
   "cell_type": "code",
   "execution_count": 13,
   "metadata": {},
   "outputs": [
    {
     "name": "stdout",
     "output_type": "stream",
     "text": [
      "tensor([[1.0621, 1.7502, 1.6451],\n",
      "        [1.4450, 1.9086, 1.2129],\n",
      "        [1.9460, 1.8682, 1.3145],\n",
      "        [1.4709, 1.9640, 1.3083],\n",
      "        [1.0486, 1.8586, 1.1142]])\n"
     ]
    }
   ],
   "source": [
    "# adds x to y\n",
    "y.add_(x)\n",
    "print(y)"
   ]
  },
  {
   "cell_type": "markdown",
   "metadata": {},
   "source": [
    "<br>Note<br>\n",
    "Any operation thet mutates a tensor in-place is post-fixed with an \"_\". For example \"x.copy_(y)\", \"x.t_()\" will change \"x\".<br><br>\n",
    "You can use standard NumPy-like indexing with all bells and whistles!"
   ]
  },
  {
   "cell_type": "code",
   "execution_count": 14,
   "metadata": {},
   "outputs": [
    {
     "name": "stdout",
     "output_type": "stream",
     "text": [
      "tensor([[1.0621, 1.7502, 1.6451],\n",
      "        [1.4450, 1.9086, 1.2129],\n",
      "        [1.9460, 1.8682, 1.3145],\n",
      "        [1.4709, 1.9640, 1.3083],\n",
      "        [1.0486, 1.8586, 1.1142]])\n",
      "tensor([1.7502, 1.9086, 1.8682, 1.9640, 1.8586])\n"
     ]
    }
   ],
   "source": [
    "print(y)\n",
    "print(y[:,1])"
   ]
  },
  {
   "cell_type": "markdown",
   "metadata": {},
   "source": [
    "<br>Resizing: If you want to resize/reshape tensor, you can use torch. view"
   ]
  },
  {
   "cell_type": "code",
   "execution_count": 15,
   "metadata": {},
   "outputs": [
    {
     "name": "stdout",
     "output_type": "stream",
     "text": [
      "torch.Size([4, 4]) torch.Size([16]) torch.Size([2, 8]) torch.Size([2, 2, 4]) \n",
      "\n",
      "tensor([[-1.3970, -1.6955,  1.3494,  1.5037],\n",
      "        [ 1.8218, -0.2961, -1.8839, -1.4941],\n",
      "        [-0.3808,  0.8399, -0.6117,  1.3475],\n",
      "        [ 0.6931,  1.8317, -0.1227,  0.5390]]) \n",
      "\n",
      " tensor([-1.3970, -1.6955,  1.3494,  1.5037,  1.8218, -0.2961, -1.8839, -1.4941,\n",
      "        -0.3808,  0.8399, -0.6117,  1.3475,  0.6931,  1.8317, -0.1227,  0.5390]) \n",
      "\n",
      " tensor([[-1.3970, -1.6955,  1.3494,  1.5037,  1.8218, -0.2961, -1.8839, -1.4941],\n",
      "        [-0.3808,  0.8399, -0.6117,  1.3475,  0.6931,  1.8317, -0.1227,  0.5390]]) \n",
      "\n",
      " tensor([[[-1.3970, -1.6955,  1.3494,  1.5037],\n",
      "         [ 1.8218, -0.2961, -1.8839, -1.4941]],\n",
      "\n",
      "        [[-0.3808,  0.8399, -0.6117,  1.3475],\n",
      "         [ 0.6931,  1.8317, -0.1227,  0.5390]]])\n"
     ]
    }
   ],
   "source": [
    "x = torch.randn(4, 4)\n",
    "y = x.view(16)\n",
    "z = x.view(-1, 8)    # the size -1 is inferred from other dimensions.\n",
    "q = x.view(2,2,-1)\n",
    "print(x.size() , y.size(), z.size(),q.size(),'\\n')\n",
    "print(x,'\\n\\n',y,'\\n\\n',z,'\\n\\n',q)"
   ]
  },
  {
   "cell_type": "markdown",
   "metadata": {},
   "source": [
    "<br><br>\n",
    "If you have a one element tensor, use .item() to get the value as a Python number"
   ]
  },
  {
   "cell_type": "code",
   "execution_count": 16,
   "metadata": {},
   "outputs": [
    {
     "name": "stdout",
     "output_type": "stream",
     "text": [
      "tensor([-0.6624])\n",
      "-0.6624211668968201\n"
     ]
    }
   ],
   "source": [
    "x = torch.randn(1)\n",
    "print(x)\n",
    "print(x.item())"
   ]
  },
  {
   "cell_type": "markdown",
   "metadata": {},
   "source": [
    "##### Read later: <br>\n",
    "100+ Tensor operations, including transposing, indexing, slicing, mathematical operations, linear algebra, random numbers, etc., are described here<br>\n",
    "<http://pytorch.org/docs/torch>"
   ]
  },
  {
   "cell_type": "markdown",
   "metadata": {},
   "source": [
    "## NumPy Bridge\n",
    "Converting a Torch Tensor to a NumPy array and vice versa is a breeze.<br>\n",
    "The Torch Tensor and NumPy array will share their underlying memory locations, and changing one will change the other.<br><br>\n",
    "Converting a Torch Tensor to a NumPy Array"
   ]
  },
  {
   "cell_type": "code",
   "execution_count": 17,
   "metadata": {},
   "outputs": [
    {
     "name": "stdout",
     "output_type": "stream",
     "text": [
      "tensor([1., 1., 1., 1., 1.]) <class 'torch.Tensor'>\n"
     ]
    }
   ],
   "source": [
    "a = torch.ones(5)\n",
    "print(a,type(a))"
   ]
  },
  {
   "cell_type": "code",
   "execution_count": 18,
   "metadata": {},
   "outputs": [
    {
     "name": "stdout",
     "output_type": "stream",
     "text": [
      "[1. 1. 1. 1. 1.] <class 'numpy.ndarray'>\n"
     ]
    }
   ],
   "source": [
    "b = a.numpy()\n",
    "print(b,type(b))"
   ]
  },
  {
   "cell_type": "markdown",
   "metadata": {},
   "source": [
    "<br>See how the numpy array changed in value."
   ]
  },
  {
   "cell_type": "code",
   "execution_count": 19,
   "metadata": {},
   "outputs": [
    {
     "name": "stdout",
     "output_type": "stream",
     "text": [
      "tensor([2., 2., 2., 2., 2.])\n",
      "[2. 2. 2. 2. 2.]\n"
     ]
    }
   ],
   "source": [
    "a.add_(1)\n",
    "print(a)\n",
    "print(b)  # bcoz even it's converted to numPy array,they share same memory"
   ]
  },
  {
   "cell_type": "markdown",
   "metadata": {},
   "source": [
    "<br>Converting NumPy Array to Torch Tensor.<br>\n",
    "See how changing the np array changed the Torch Tensor automatically"
   ]
  },
  {
   "cell_type": "code",
   "execution_count": 20,
   "metadata": {},
   "outputs": [
    {
     "name": "stdout",
     "output_type": "stream",
     "text": [
      "[1. 1. 1. 1. 1.]\n",
      "tensor([1., 1., 1., 1., 1.], dtype=torch.float64)\n",
      "[2. 2. 2. 2. 2.]\n",
      "tensor([2., 2., 2., 2., 2.], dtype=torch.float64)\n"
     ]
    }
   ],
   "source": [
    "import numpy as np\n",
    "a = np.ones(5)\n",
    "print(a)\n",
    "b = torch.from_numpy(a)\n",
    "print(b)\n",
    "np.add(a,1,out=a)\n",
    "print(a)\n",
    "print(b)"
   ]
  },
  {
   "cell_type": "markdown",
   "metadata": {},
   "source": [
    "All the Tensors on the CPU except a CharTensor support converting to NumPy and back."
   ]
  },
  {
   "cell_type": "markdown",
   "metadata": {},
   "source": [
    "### CUDA Tensors\n",
    "Tensors can be moved onto any device using the .to method."
   ]
  },
  {
   "cell_type": "code",
   "execution_count": 21,
   "metadata": {},
   "outputs": [],
   "source": [
    "# let us run this cell only if CUBA is available\n",
    "# We will use  ''torch.device'' objects to move tensors in and out of GPU\n",
    "if torch.cuda.is_available():\n",
    "    device = torch.device(\"cuda\")           # a CUDA device object\n",
    "    y = torch.ones_like(x, device=device)   # directly create a tensor on GPU\n",
    "    x = x.to(device)                        # or just use strings ''.to(\"cuba\")''\n",
    "    z = x+y\n",
    "    print(z)\n",
    "    print(z.to(\"cpu\",torch.double))        # ''.to'' can also change dtype together!"
   ]
  },
  {
   "cell_type": "code",
   "execution_count": 22,
   "metadata": {},
   "outputs": [
    {
     "data": {
      "text/plain": [
       "False"
      ]
     },
     "execution_count": 22,
     "metadata": {},
     "output_type": "execute_result"
    }
   ],
   "source": [
    "torch.cuda.is_available()  # checking if a GPU is allocated or not."
   ]
  },
  {
   "cell_type": "code",
   "execution_count": null,
   "metadata": {},
   "outputs": [],
   "source": []
  },
  {
   "cell_type": "code",
   "execution_count": null,
   "metadata": {},
   "outputs": [],
   "source": []
  },
  {
   "cell_type": "code",
   "execution_count": null,
   "metadata": {},
   "outputs": [],
   "source": []
  },
  {
   "cell_type": "code",
   "execution_count": null,
   "metadata": {},
   "outputs": [],
   "source": []
  },
  {
   "cell_type": "code",
   "execution_count": null,
   "metadata": {},
   "outputs": [],
   "source": []
  },
  {
   "cell_type": "code",
   "execution_count": null,
   "metadata": {},
   "outputs": [],
   "source": []
  },
  {
   "cell_type": "code",
   "execution_count": null,
   "metadata": {},
   "outputs": [],
   "source": []
  },
  {
   "cell_type": "code",
   "execution_count": null,
   "metadata": {},
   "outputs": [],
   "source": []
  },
  {
   "cell_type": "code",
   "execution_count": null,
   "metadata": {},
   "outputs": [],
   "source": []
  }
 ],
 "metadata": {
  "kernelspec": {
   "display_name": "Python 3",
   "language": "python",
   "name": "python3"
  },
  "language_info": {
   "codemirror_mode": {
    "name": "ipython",
    "version": 3
   },
   "file_extension": ".py",
   "mimetype": "text/x-python",
   "name": "python",
   "nbconvert_exporter": "python",
   "pygments_lexer": "ipython3",
   "version": "3.8.3"
  }
 },
 "nbformat": 4,
 "nbformat_minor": 4
}
