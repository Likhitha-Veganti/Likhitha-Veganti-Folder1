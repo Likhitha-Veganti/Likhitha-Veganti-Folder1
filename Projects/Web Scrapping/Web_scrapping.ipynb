{
 "cells": [
  {
   "cell_type": "code",
   "execution_count": 1,
   "metadata": {},
   "outputs": [],
   "source": [
    "from bs4 import BeautifulSoup\n",
    "import requests\n",
    "import pandas as pd\n",
    "from pandas import Series"
   ]
  },
  {
   "cell_type": "code",
   "execution_count": 2,
   "metadata": {},
   "outputs": [
    {
     "name": "stdout",
     "output_type": "stream",
     "text": [
      "//upload.wikimedia.org/wikipedia/commons/thumb/6/6d/Grand_Entrance_-_Warner_Bros._Movie_World.jpg/163px-Grand_Entrance_-_Warner_Bros._Movie_World.jpg\n",
      "//upload.wikimedia.org/wikipedia/commons/thumb/a/a7/Eye_of_Horus_bw.svg/160px-Eye_of_Horus_bw.svg.png\n",
      "//upload.wikimedia.org/wikipedia/commons/thumb/f/f8/N%27Golo_Kant%C3%A9_2018.jpg/139px-N%27Golo_Kant%C3%A9_2018.jpg\n",
      "//upload.wikimedia.org/wikipedia/commons/thumb/2/26/Elizabeth_II_%26_Philip_after_Coronation.JPG/120px-Elizabeth_II_%26_Philip_after_Coronation.JPG\n"
     ]
    }
   ],
   "source": [
    "url='https://en.wikipedia.org/wiki/Main_Page'\n",
    "result=requests.get(url)\n",
    "soup=BeautifulSoup(result.content,'lxml')\n",
    "content=soup.findAll(class_='thumbinner mp-thumb')\n",
    "for con in content:\n",
    "    con=con.find('img')\n",
    "    print(con['src'])\n",
    "    "
   ]
  },
  {
   "cell_type": "code",
   "execution_count": null,
   "metadata": {},
   "outputs": [],
   "source": []
  }
 ],
 "metadata": {
  "kernelspec": {
   "display_name": "Python 3",
   "language": "python",
   "name": "python3"
  },
  "language_info": {
   "codemirror_mode": {
    "name": "ipython",
    "version": 3
   },
   "file_extension": ".py",
   "mimetype": "text/x-python",
   "name": "python",
   "nbconvert_exporter": "python",
   "pygments_lexer": "ipython3",
   "version": "3.8.3"
  }
 },
 "nbformat": 4,
 "nbformat_minor": 4
}
